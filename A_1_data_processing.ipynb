{
 "cells": [
  {
   "cell_type": "markdown",
   "metadata": {
    "nbpresent": {
     "id": "8778d512-9422-4a3d-ad87-558027837b8d"
    }
   },
   "source": [
    "# Merge csv information"
   ]
  },
  {
   "cell_type": "code",
   "execution_count": 7,
   "metadata": {},
   "outputs": [],
   "source": [
    "from src.functions.extractor import PatientInfoMerger\n",
    "\n",
    "# Create the paths\n",
    "base_path = 'data/raw_data/'\n",
    "main_path = base_path + 'stage_2_train_labels.csv'\n",
    "supplementary_path = base_path + 'stage_2_detailed_class_info.csv'\n",
    "\n",
    "# Merge files here\n",
    "merge_obj = PatientInfoMerger(main_path, supplementary_path)\n",
    "merged = merge_obj.merge_info()\n",
    "merged.to_csv('data/labels.csv', index=False)"
   ]
  },
  {
   "cell_type": "markdown",
   "metadata": {},
   "source": [
    "# Unzip and create PNG"
   ]
  },
  {
   "cell_type": "code",
   "execution_count": 2,
   "metadata": {},
   "outputs": [
    {
     "name": "stdout",
     "output_type": "stream",
     "text": [
      "Unzipping data/raw_data/stage_2_train_images.zip to data/raw_data/train_dcm\n"
     ]
    },
    {
     "name": "stderr",
     "output_type": "stream",
     "text": [
      "  0%|          | 4/26684 [00:00<13:28, 33.01it/s]"
     ]
    },
    {
     "name": "stdout",
     "output_type": "stream",
     "text": [
      "Unzipping finished\n",
      "Starting to convert DCM to PNG\n"
     ]
    },
    {
     "name": "stderr",
     "output_type": "stream",
     "text": [
      "100%|██████████| 26684/26684 [09:06<00:00, 51.43it/s]\n"
     ]
    },
    {
     "name": "stdout",
     "output_type": "stream",
     "text": [
      "Finished converting DCM to PNG\n",
      "Unzipping data/raw_data/stage_2_test_images.zip to data/raw_data/test_dcm\n"
     ]
    },
    {
     "name": "stderr",
     "output_type": "stream",
     "text": [
      "  0%|          | 5/3000 [00:00<01:02, 47.89it/s]"
     ]
    },
    {
     "name": "stdout",
     "output_type": "stream",
     "text": [
      "Unzipping finished\n",
      "Starting to convert DCM to PNG\n"
     ]
    },
    {
     "name": "stderr",
     "output_type": "stream",
     "text": [
      "100%|██████████| 3000/3000 [00:59<00:00, 50.42it/s]"
     ]
    },
    {
     "name": "stdout",
     "output_type": "stream",
     "text": [
      "Finished converting DCM to PNG\n"
     ]
    },
    {
     "name": "stderr",
     "output_type": "stream",
     "text": [
      "\n"
     ]
    }
   ],
   "source": [
    "from src.functions.extractor import DCMConverter\n",
    "\n",
    "# Unzip train\n",
    "converter_train = DCMConverter(\n",
    "    'data/raw_data/train_dcm', 'data/train',\n",
    "    'data/train_dcm_info.csv',\n",
    "    path_to_zip_file = 'data/raw_data/stage_2_train_images.zip',\n",
    "    directory_to_extract_to = 'data/raw_data/train_dcm'\n",
    ")\n",
    "converter_train.convert_dcm()\n",
    "\n",
    "# Unzip test\n",
    "converter_train = DCMConverter(\n",
    "    'data/raw_data/test_dcm', 'data/test',\n",
    "    'data/test_dcm_info.csv',\n",
    "    path_to_zip_file = 'data/raw_data/stage_2_test_images.zip',\n",
    "    directory_to_extract_to = 'data/raw_data/test_dcm'\n",
    ")\n",
    "converter_train.convert_dcm()"
   ]
  }
 ],
 "metadata": {
  "kernelspec": {
   "display_name": "Python 3",
   "language": "python",
   "name": "python3"
  },
  "language_info": {
   "codemirror_mode": {
    "name": "ipython",
    "version": 3
   },
   "file_extension": ".py",
   "mimetype": "text/x-python",
   "name": "python",
   "nbconvert_exporter": "python",
   "pygments_lexer": "ipython3",
   "version": "3.7.2"
  }
 },
 "nbformat": 4,
 "nbformat_minor": 2
}
