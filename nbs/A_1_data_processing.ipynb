{
 "cells": [
  {
   "cell_type": "markdown",
   "metadata": {
    "nbpresent": {
     "id": "b36ede1c-f4a2-4eda-b9a2-eb3459033f53"
    }
   },
   "source": [
    "## Unzip Data"
   ]
  },
  {
   "cell_type": "code",
   "execution_count": 14,
   "metadata": {
    "nbpresent": {
     "id": "b90a7bf5-161b-4182-9076-16aa7cd55d99"
    }
   },
   "outputs": [],
   "source": [
    "import os\n",
    "\n",
    "if 'test_dcm' not in os.listdir('data/new_xray/raw_data'):\n",
    "    !unzip 'data/new_xray/raw_data/stage_2_test_images.zip' -d 'data/new_xray/raw_data/test_dcm'\n",
    "if 'train_dcm' not in os.listdir('data/new_xray/raw_data'):\n",
    "    !unzip 'data/new_xray/raw_data/stage_2_train_images.zip' -d 'data/new_xray/raw_data/train_dcm'"
   ]
  },
  {
   "cell_type": "markdown",
   "metadata": {
    "nbpresent": {
     "id": "8778d512-9422-4a3d-ad87-558027837b8d"
    }
   },
   "source": [
    "## Merge csv information"
   ]
  },
  {
   "cell_type": "code",
   "execution_count": 17,
   "metadata": {
    "nbpresent": {
     "id": "d005e687-ab2b-46b4-b6d0-02ddbce80f96"
    }
   },
   "outputs": [],
   "source": [
    "import os\n",
    "import pandas as pd\n",
    "\n",
    "path = 'data/new_xray/raw_data/'\n",
    "\n",
    "labels = pd.read_csv(path+'stage_2_train_labels.csv')\n",
    "class_info = pd.read_csv(path+'stage_2_detailed_class_info.csv')\n",
    "\n",
    "class_info.drop_duplicates(subset=['patientId', 'class'], inplace=True)\n",
    "labels.drop_duplicates(subset=['patientId', 'x', 'y', 'width', 'height', 'Target'], inplace=True)\n",
    "\n",
    "# Join both info\n",
    "details = labels.merge(\n",
    "    class_info,\n",
    "    left_on='patientId',\n",
    "    right_on='patientId',\n",
    "    how='left'\n",
    ")\n",
    "\n",
    "details.to_csv('data/new_xray/merged_details.csv', index=False)"
   ]
  },
  {
   "cell_type": "markdown",
   "metadata": {
    "nbpresent": {
     "id": "b9d5c3cf-8754-44a5-b7e0-7a9548e8386c"
    }
   },
   "source": [
    "## Convert DCM to PNG\n",
    "\n",
    "Source code:\n",
    "https://github.com/vivek8981/DICOM-to-JPG/blob/master/convert-extract.py\n",
    "\n",
    "### Convert and extract DCM info:"
   ]
  },
  {
   "cell_type": "code",
   "execution_count": 24,
   "metadata": {
    "nbpresent": {
     "id": "a0af4a46-5587-4f5e-8079-5ab91cf60be4"
    }
   },
   "outputs": [],
   "source": [
    "import pydicom as dicom\n",
    "import matplotlib.pyplot as plt\n",
    "import os\n",
    "import cv2\n",
    "import PIL\n",
    "import pandas as pd\n",
    "import csv\n",
    "from tqdm.notebook import tqdm\n",
    "\n",
    "\n",
    "# download this file from the given link # https://github.com/vivek8981/DICOM-to-JPG\n",
    "dicom_image_description = pd.read_csv('data/new_xray/other/dicom_image_description.csv')\n",
    "\n",
    "\n",
    "def dcm_to_png(dcm_path, output_path, output_csv_path, dicom_image_description):\n",
    "    \"\"\"\n",
    "    Converts DCM files to PNG files and stores information from DCM to csv.\n",
    "    \n",
    "    Arguments:\n",
    "        dcm_path {str} -- The directory where the DCM files are stored.\n",
    "        output_path {str} -- The directory where the output PNGs will be stored.\n",
    "        output_csv_path {str} -- Output directory + name of the CSV containing info from DCM files.\n",
    "        dicom_image_description {pd.DataFrame} -- DataFrame containing DCM code converter.\n",
    "    \"\"\"\n",
    "    # make it True if you want in PNG format\n",
    "    PNG = True\n",
    "    # Specify the .dcm folder path\n",
    "    folder_path = dcm_path\n",
    "    # Specify the .jpg/.png folder path\n",
    "    jpg_folder_path = output_path\n",
    "    images_path = os.listdir(folder_path)\n",
    "    # list of attributes available in dicom image\n",
    "\n",
    "    with open(output_csv_path, 'w', newline ='') as csvfile:\n",
    "        fieldnames = list(dicom_image_description[\"Description\"])\n",
    "        writer = csv.writer(csvfile, delimiter=',')\n",
    "        writer.writerow(fieldnames)\n",
    "        for n, image in enumerate(tqdm(images_path)):\n",
    "            ds = dicom.dcmread(os.path.join(folder_path, image))\n",
    "            rows = []\n",
    "            pixel_array_numpy = ds.pixel_array\n",
    "            if PNG == False:\n",
    "                image = image.replace('.dcm', '.jpg')\n",
    "            else:\n",
    "                image = image.replace('.dcm', '.png')\n",
    "            cv2.imwrite(os.path.join(jpg_folder_path, image), pixel_array_numpy)\n",
    "            for field in fieldnames:\n",
    "                if ds.data_element(field) is None:\n",
    "                    rows.append('')\n",
    "                else:\n",
    "                    x = str(ds.data_element(field)).replace(\"'\", \"\")\n",
    "                    y = x.find(\":\")\n",
    "                    x = x[y+2:]\n",
    "                    rows.append(x)\n",
    "            writer.writerow(rows)"
   ]
  },
  {
   "cell_type": "markdown",
   "metadata": {},
   "source": [
    "### Execute"
   ]
  },
  {
   "cell_type": "code",
   "execution_count": 32,
   "metadata": {
    "nbpresent": {
     "id": "2e1f9268-bc8a-439e-a123-25034e3cd765"
    }
   },
   "outputs": [
    {
     "data": {
      "application/vnd.jupyter.widget-view+json": {
       "model_id": "04f6158878c040bcb766e0159a719c17",
       "version_major": 2,
       "version_minor": 0
      },
      "text/plain": [
       "HBox(children=(IntProgress(value=0, max=26684), HTML(value='')))"
      ]
     },
     "metadata": {},
     "output_type": "display_data"
    },
    {
     "name": "stdout",
     "output_type": "stream",
     "text": [
      "\n"
     ]
    },
    {
     "data": {
      "application/vnd.jupyter.widget-view+json": {
       "model_id": "f14502488c1c487e87b72da29dc0f76b",
       "version_major": 2,
       "version_minor": 0
      },
      "text/plain": [
       "HBox(children=(IntProgress(value=0, max=3000), HTML(value='')))"
      ]
     },
     "metadata": {},
     "output_type": "display_data"
    },
    {
     "name": "stdout",
     "output_type": "stream",
     "text": [
      "\n"
     ]
    }
   ],
   "source": [
    "base_path_output = 'data/new_xray/'\n",
    "\n",
    "dcm_path_train = path+'train_dcm'\n",
    "output_path_train = base_path_output+'train_png'\n",
    "output_path_csv_train = base_path_output+'train_dcm_png_info.csv'\n",
    "\n",
    "dcm_path_test = path+'test_dcm'\n",
    "output_path_test = base_path_output+'test_png'\n",
    "output_path_csv_test = base_path_output+'test_dcm_png_info.csv'\n",
    "\n",
    "# Train data\n",
    "dcm_to_png(dcm_path_train, output_path_train, output_path_csv_train, dicom_image_description)\n",
    "\n",
    "# Test data\n",
    "dcm_to_png(dcm_path_test, output_path_test, output_path_csv_test, dicom_image_description)"
   ]
  }
 ],
 "metadata": {
  "kernelspec": {
   "display_name": "thesis",
   "language": "python",
   "name": "thesis"
  },
  "language_info": {
   "codemirror_mode": {
    "name": "ipython",
    "version": 3
   },
   "file_extension": ".py",
   "mimetype": "text/x-python",
   "name": "python",
   "nbconvert_exporter": "python",
   "pygments_lexer": "ipython3",
   "version": "3.7.4"
  }
 },
 "nbformat": 4,
 "nbformat_minor": 2
}
